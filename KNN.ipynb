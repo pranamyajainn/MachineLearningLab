{
 "cells": [
  {
   "cell_type": "code",
   "execution_count": 8,
   "id": "178d8c0d-45ff-44cb-a7b7-0ac12bc13044",
   "metadata": {},
   "outputs": [],
   "source": [
    "from sklearn.datasets import load_iris\n",
    "from sklearn.model_selection import train_test_split\n",
    "from sklearn.neighbors import KNeighborsClassifier \n",
    "from sklearn.metrics import accuracy_score, classification_report"
   ]
  },
  {
   "cell_type": "code",
   "execution_count": 10,
   "id": "7006eb83-f9c0-47fa-9a46-e3972641ec94",
   "metadata": {},
   "outputs": [],
   "source": [
    "iris= load_iris()\n",
    "X,y = iris.data, iris.target\n",
    "X_train , X_test , y_train, y_test = train_test_split( X, y, test_size = 0.3, random_state = 42)"
   ]
  },
  {
   "cell_type": "code",
   "execution_count": 14,
   "id": "cb2a5d2d-ee0b-4e54-926f-6e9770498f7c",
   "metadata": {},
   "outputs": [],
   "source": [
    "k=3\n",
    "knn = KNeighborsClassifier(n_neighbors = k )\n",
    "knn.fit(X_train , y_train)\n",
    "\n",
    "y_pred = knn.predict(X_test)\n",
    "accuracy = accuracy_score (y_test, y_pred)"
   ]
  },
  {
   "cell_type": "code",
   "execution_count": 20,
   "id": "b42a1adb-0ad6-4f09-9da8-9d744c4c6869",
   "metadata": {},
   "outputs": [
    {
     "name": "stdout",
     "output_type": "stream",
     "text": [
      "Accuracy of knn model :  1.00\n",
      "\n",
      " classification report: \n",
      "              precision    recall  f1-score   support\n",
      "\n",
      "      setosa       1.00      1.00      1.00        19\n",
      "  versicolor       1.00      1.00      1.00        13\n",
      "   virginica       1.00      1.00      1.00        13\n",
      "\n",
      "    accuracy                           1.00        45\n",
      "   macro avg       1.00      1.00      1.00        45\n",
      "weighted avg       1.00      1.00      1.00        45\n",
      "\n"
     ]
    }
   ],
   "source": [
    "print(f\"Accuracy of knn model : {accuracy : .2f}\")\n",
    "print(\"\\n classification report: \")\n",
    "print(classification_report(y_test, y_pred, target_names = iris.target_names))"
   ]
  },
  {
   "cell_type": "code",
   "execution_count": null,
   "id": "da7da516-52b4-456d-9dc7-44ccdccc908d",
   "metadata": {},
   "outputs": [],
   "source": []
  }
 ],
 "metadata": {
  "kernelspec": {
   "display_name": "Python [conda env:base] *",
   "language": "python",
   "name": "conda-base-py"
  },
  "language_info": {
   "codemirror_mode": {
    "name": "ipython",
    "version": 3
   },
   "file_extension": ".py",
   "mimetype": "text/x-python",
   "name": "python",
   "nbconvert_exporter": "python",
   "pygments_lexer": "ipython3",
   "version": "3.12.7"
  }
 },
 "nbformat": 4,
 "nbformat_minor": 5
}
